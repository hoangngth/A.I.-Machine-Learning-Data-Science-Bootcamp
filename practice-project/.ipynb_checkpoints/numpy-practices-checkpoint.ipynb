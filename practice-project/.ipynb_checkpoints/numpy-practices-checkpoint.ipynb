{
 "cells": [
  {
   "cell_type": "code",
   "execution_count": 1,
   "id": "4f3995f6-c1da-43c4-ad91-e7352f9b3eb0",
   "metadata": {},
   "outputs": [],
   "source": [
    "import numpy as np"
   ]
  },
  {
   "cell_type": "code",
   "execution_count": 2,
   "id": "9b9770d2-c21b-4829-870c-b7cbe9a530a2",
   "metadata": {},
   "outputs": [
    {
     "data": {
      "text/plain": [
       "array([1, 2])"
      ]
     },
     "execution_count": 2,
     "metadata": {},
     "output_type": "execute_result"
    }
   ],
   "source": [
    "d1 = np.array([1, 2])\n",
    "d1"
   ]
  },
  {
   "cell_type": "code",
   "execution_count": 3,
   "id": "e8cb0a8b-563a-4c7f-873f-08f49b26bb2c",
   "metadata": {},
   "outputs": [
    {
     "data": {
      "text/plain": [
       "array([[1, 2],\n",
       "       [3, 4],\n",
       "       [5, 6]])"
      ]
     },
     "execution_count": 3,
     "metadata": {},
     "output_type": "execute_result"
    }
   ],
   "source": [
    "d2 = np.array([[1, 2], [3, 4], [5, 6]])\n",
    "d2"
   ]
  },
  {
   "cell_type": "code",
   "execution_count": 4,
   "id": "602ee6c7-f135-405b-b212-5391c817a1cb",
   "metadata": {},
   "outputs": [
    {
     "data": {
      "text/plain": [
       "array([[[ 1,  2],\n",
       "        [ 3,  4]],\n",
       "\n",
       "       [[ 5,  6],\n",
       "        [ 7,  8]],\n",
       "\n",
       "       [[ 9, 10],\n",
       "        [11, 12]]])"
      ]
     },
     "execution_count": 4,
     "metadata": {},
     "output_type": "execute_result"
    }
   ],
   "source": [
    "d3 = np.array([[[1, 2], [3, 4]],\n",
    "               [[5, 6], [7, 8]],\n",
    "               [[9, 10], [11, 12]]\n",
    "              ])\n",
    "d3"
   ]
  },
  {
   "cell_type": "code",
   "execution_count": 5,
   "id": "fc85ec94-c78e-4ca9-bb35-1fd053ac7de5",
   "metadata": {},
   "outputs": [
    {
     "data": {
      "text/plain": [
       "(2,)"
      ]
     },
     "execution_count": 5,
     "metadata": {},
     "output_type": "execute_result"
    }
   ],
   "source": [
    "d1.shape"
   ]
  },
  {
   "cell_type": "code",
   "execution_count": 6,
   "id": "730a6f94-89e6-41de-a981-1408cd42cd3e",
   "metadata": {
    "scrolled": true
   },
   "outputs": [
    {
     "data": {
      "text/plain": [
       "(3, 2)"
      ]
     },
     "execution_count": 6,
     "metadata": {},
     "output_type": "execute_result"
    }
   ],
   "source": [
    "d2.shape"
   ]
  },
  {
   "cell_type": "code",
   "execution_count": 7,
   "id": "802e2bf1-9108-4ed5-8b5c-8e97b8ff6db4",
   "metadata": {},
   "outputs": [
    {
     "data": {
      "text/plain": [
       "(3, 2, 2)"
      ]
     },
     "execution_count": 7,
     "metadata": {},
     "output_type": "execute_result"
    }
   ],
   "source": [
    "d3.shape"
   ]
  },
  {
   "cell_type": "code",
   "execution_count": 8,
   "id": "c1a9d2d3-718d-42af-8b10-ba5d0463e251",
   "metadata": {},
   "outputs": [
    {
     "data": {
      "text/plain": [
       "3"
      ]
     },
     "execution_count": 8,
     "metadata": {},
     "output_type": "execute_result"
    }
   ],
   "source": [
    "d3.ndim"
   ]
  },
  {
   "cell_type": "code",
   "execution_count": 9,
   "id": "db26c4b3-1457-4d37-941f-8e4c045d08c9",
   "metadata": {},
   "outputs": [
    {
     "data": {
      "text/plain": [
       "dtype('int64')"
      ]
     },
     "execution_count": 9,
     "metadata": {},
     "output_type": "execute_result"
    }
   ],
   "source": [
    "d3.dtype"
   ]
  },
  {
   "cell_type": "code",
   "execution_count": 10,
   "id": "89f9b9af-28e7-4365-84b0-50399fb97566",
   "metadata": {},
   "outputs": [
    {
     "data": {
      "text/plain": [
       "12"
      ]
     },
     "execution_count": 10,
     "metadata": {},
     "output_type": "execute_result"
    }
   ],
   "source": [
    "d3.size"
   ]
  },
  {
   "cell_type": "code",
   "execution_count": 11,
   "id": "91c498ab-e73e-46c6-9ad4-dba4acb33065",
   "metadata": {},
   "outputs": [
    {
     "data": {
      "text/plain": [
       "numpy.ndarray"
      ]
     },
     "execution_count": 11,
     "metadata": {},
     "output_type": "execute_result"
    }
   ],
   "source": [
    "type(d3)"
   ]
  },
  {
   "cell_type": "code",
   "execution_count": 12,
   "id": "df92d146-7722-4b53-a8c6-0576f22064ec",
   "metadata": {},
   "outputs": [
    {
     "data": {
      "text/html": [
       "<div>\n",
       "<style scoped>\n",
       "    .dataframe tbody tr th:only-of-type {\n",
       "        vertical-align: middle;\n",
       "    }\n",
       "\n",
       "    .dataframe tbody tr th {\n",
       "        vertical-align: top;\n",
       "    }\n",
       "\n",
       "    .dataframe thead th {\n",
       "        text-align: right;\n",
       "    }\n",
       "</style>\n",
       "<table border=\"1\" class=\"dataframe\">\n",
       "  <thead>\n",
       "    <tr style=\"text-align: right;\">\n",
       "      <th></th>\n",
       "      <th>0</th>\n",
       "      <th>1</th>\n",
       "    </tr>\n",
       "  </thead>\n",
       "  <tbody>\n",
       "    <tr>\n",
       "      <th>0</th>\n",
       "      <td>1</td>\n",
       "      <td>2</td>\n",
       "    </tr>\n",
       "    <tr>\n",
       "      <th>1</th>\n",
       "      <td>3</td>\n",
       "      <td>4</td>\n",
       "    </tr>\n",
       "    <tr>\n",
       "      <th>2</th>\n",
       "      <td>5</td>\n",
       "      <td>6</td>\n",
       "    </tr>\n",
       "  </tbody>\n",
       "</table>\n",
       "</div>"
      ],
      "text/plain": [
       "   0  1\n",
       "0  1  2\n",
       "1  3  4\n",
       "2  5  6"
      ]
     },
     "execution_count": 12,
     "metadata": {},
     "output_type": "execute_result"
    }
   ],
   "source": [
    "import pandas as pd\n",
    "\n",
    "# pandas can only process 2d and 1d\n",
    "df = pd.DataFrame(d2)\n",
    "df"
   ]
  },
  {
   "cell_type": "code",
   "execution_count": 13,
   "id": "8582e281-99a9-46da-814e-023e9c0492ea",
   "metadata": {},
   "outputs": [
    {
     "data": {
      "text/plain": [
       "array([[0., 0.],\n",
       "       [0., 0.],\n",
       "       [0., 0.]])"
      ]
     },
     "execution_count": 13,
     "metadata": {},
     "output_type": "execute_result"
    }
   ],
   "source": [
    "zeros = np.zeros((3,2))\n",
    "zeros"
   ]
  },
  {
   "cell_type": "code",
   "execution_count": 14,
   "id": "7052ecbe-984e-4d95-b818-3b74e65ed67e",
   "metadata": {},
   "outputs": [
    {
     "data": {
      "text/plain": [
       "array([0, 2, 4, 6, 8])"
      ]
     },
     "execution_count": 14,
     "metadata": {},
     "output_type": "execute_result"
    }
   ],
   "source": [
    "range_array = np.arange(0, 10, 2)\n",
    "range_array"
   ]
  },
  {
   "cell_type": "code",
   "execution_count": 15,
   "id": "242e3518-8e8d-4bca-9a8c-3cbbe65566e4",
   "metadata": {},
   "outputs": [
    {
     "data": {
      "text/plain": [
       "array([[2, 5, 7, 6, 0],\n",
       "       [6, 1, 4, 5, 2],\n",
       "       [4, 4, 3, 2, 5],\n",
       "       [6, 4, 1, 3, 2],\n",
       "       [9, 4, 6, 5, 6]], dtype=int32)"
      ]
     },
     "execution_count": 15,
     "metadata": {},
     "output_type": "execute_result"
    }
   ],
   "source": [
    "random_array = np.random.randint(0, 10, (5,5))\n",
    "random_array"
   ]
  },
  {
   "cell_type": "code",
   "execution_count": 16,
   "id": "517eed91-0a79-4fee-93f5-c846a99e2637",
   "metadata": {},
   "outputs": [
    {
     "data": {
      "text/plain": [
       "array([[0.08387666, 0.01546309, 0.43136878, 0.58658026, 0.33722445],\n",
       "       [0.67180133, 0.33971941, 0.32275557, 0.36199044, 0.37263062],\n",
       "       [0.12372398, 0.40994379, 0.53997108, 0.94842955, 0.53362991],\n",
       "       [0.99478373, 0.72029301, 0.05134521, 0.9312745 , 0.33174005],\n",
       "       [0.57870113, 0.71879164, 0.96103676, 0.55282709, 0.97466585]])"
      ]
     },
     "execution_count": 16,
     "metadata": {},
     "output_type": "execute_result"
    }
   ],
   "source": [
    "random_array_2 = np.random.random((5, 5))\n",
    "random_array_2"
   ]
  },
  {
   "cell_type": "code",
   "execution_count": 17,
   "id": "2e0b9036-969f-4dbd-856f-28422f181d1b",
   "metadata": {},
   "outputs": [
    {
     "data": {
      "text/plain": [
       "array([[5, 0],\n",
       "       [3, 3],\n",
       "       [7, 9]], dtype=int32)"
      ]
     },
     "execution_count": 17,
     "metadata": {},
     "output_type": "execute_result"
    }
   ],
   "source": [
    "# Pseudo-random\n",
    "np.random.seed(0)\n",
    "\n",
    "random_array_3 = np.random.randint(10, size=(3,2))\n",
    "random_array_3"
   ]
  },
  {
   "cell_type": "code",
   "execution_count": 18,
   "id": "4d043169-d743-470e-a118-dc74179125de",
   "metadata": {
    "scrolled": true
   },
   "outputs": [
    {
     "data": {
      "text/plain": [
       "array([0, 1, 2, 3, 4, 5, 6, 7, 9], dtype=int32)"
      ]
     },
     "execution_count": 18,
     "metadata": {},
     "output_type": "execute_result"
    }
   ],
   "source": [
    "np.unique(random_array)"
   ]
  },
  {
   "cell_type": "code",
   "execution_count": 19,
   "id": "275f3c7e-1fef-4af1-bac1-2863085a810b",
   "metadata": {},
   "outputs": [
    {
     "data": {
      "text/plain": [
       "array([[[ 1,  2],\n",
       "        [ 3,  4]],\n",
       "\n",
       "       [[ 5,  6],\n",
       "        [ 7,  8]],\n",
       "\n",
       "       [[ 9, 10],\n",
       "        [11, 12]]])"
      ]
     },
     "execution_count": 19,
     "metadata": {},
     "output_type": "execute_result"
    }
   ],
   "source": [
    "d3"
   ]
  },
  {
   "cell_type": "code",
   "execution_count": 20,
   "id": "e01884a5-cab2-4eeb-bcab-6cc171cfc51c",
   "metadata": {},
   "outputs": [
    {
     "data": {
      "text/plain": [
       "array([[ 1,  3],\n",
       "       [ 5,  7],\n",
       "       [ 9, 11]])"
      ]
     },
     "execution_count": 20,
     "metadata": {},
     "output_type": "execute_result"
    }
   ],
   "source": [
    "d3[:, :, 0]"
   ]
  },
  {
   "cell_type": "markdown",
   "id": "adce4f2b-0551-4116-bbf0-b587bf01fde6",
   "metadata": {},
   "source": [
    "## Manipulating data"
   ]
  },
  {
   "cell_type": "code",
   "execution_count": 21,
   "id": "096ed23a-90f1-4414-bccb-7f3c6a4b7d9b",
   "metadata": {},
   "outputs": [
    {
     "data": {
      "text/plain": [
       "array([[ 5,  0],\n",
       "       [ 3,  6],\n",
       "       [ 7, 18]])"
      ]
     },
     "execution_count": 21,
     "metadata": {},
     "output_type": "execute_result"
    }
   ],
   "source": [
    "random_array_3 * d1 "
   ]
  },
  {
   "cell_type": "code",
   "execution_count": 22,
   "id": "5dfd047c-b26b-4772-a62a-2adab25432a3",
   "metadata": {},
   "outputs": [
    {
     "data": {
      "text/plain": [
       "array([[ 5,  0],\n",
       "       [ 9, 12],\n",
       "       [35, 54]])"
      ]
     },
     "execution_count": 22,
     "metadata": {},
     "output_type": "execute_result"
    }
   ],
   "source": [
    "random_array_3 * d2"
   ]
  },
  {
   "cell_type": "code",
   "execution_count": 23,
   "id": "d14b358e-45e2-4347-bbcb-bbdf5668255d",
   "metadata": {},
   "outputs": [
    {
     "data": {
      "text/plain": [
       "array([1, 4])"
      ]
     },
     "execution_count": 23,
     "metadata": {},
     "output_type": "execute_result"
    }
   ],
   "source": [
    "np.square(d1)"
   ]
  },
  {
   "cell_type": "code",
   "execution_count": 24,
   "id": "34ca4f1e-a6a1-4a44-9834-7951598cbb44",
   "metadata": {},
   "outputs": [
    {
     "data": {
      "text/plain": [
       "array([1, 4])"
      ]
     },
     "execution_count": 24,
     "metadata": {},
     "output_type": "execute_result"
    }
   ],
   "source": [
    "d1 ** 2"
   ]
  },
  {
   "cell_type": "code",
   "execution_count": 25,
   "id": "52cbf865-2bd4-48cd-a5b1-0053246a21e0",
   "metadata": {},
   "outputs": [
    {
     "data": {
      "text/plain": [
       "array([2.71828183, 7.3890561 ])"
      ]
     },
     "execution_count": 25,
     "metadata": {},
     "output_type": "execute_result"
    }
   ],
   "source": [
    "np.exp(d1)"
   ]
  },
  {
   "cell_type": "markdown",
   "id": "f7e7dcbf-0db3-4e8a-bb4c-8b1929b04e8e",
   "metadata": {},
   "source": [
    "## Aggregation"
   ]
  },
  {
   "cell_type": "code",
   "execution_count": 26,
   "id": "24b12339-1218-4b6b-9779-5fffa4645ce9",
   "metadata": {},
   "outputs": [
    {
     "name": "stdout",
     "output_type": "stream",
     "text": [
      "6.33 μs ± 123 ns per loop (mean ± std. dev. of 7 runs, 100,000 loops each)\n"
     ]
    }
   ],
   "source": [
    "%timeit np.sum(d2)"
   ]
  },
  {
   "cell_type": "code",
   "execution_count": 27,
   "id": "ced0d531-1c77-4c3c-967a-299bd08c78e4",
   "metadata": {},
   "outputs": [
    {
     "data": {
      "text/plain": [
       "np.float64(3.5)"
      ]
     },
     "execution_count": 27,
     "metadata": {},
     "output_type": "execute_result"
    }
   ],
   "source": [
    "np.mean(d2)"
   ]
  },
  {
   "cell_type": "code",
   "execution_count": 28,
   "id": "5df7c16e-c2b5-4eec-beb8-e9a7c388c7e9",
   "metadata": {},
   "outputs": [
    {
     "data": {
      "text/plain": [
       "np.float64(2.9166666666666665)"
      ]
     },
     "execution_count": 28,
     "metadata": {},
     "output_type": "execute_result"
    }
   ],
   "source": [
    "np.var(d2)"
   ]
  },
  {
   "cell_type": "code",
   "execution_count": 29,
   "id": "41b9e72c-7896-4e67-9e1c-cd0d6ac9fa14",
   "metadata": {},
   "outputs": [
    {
     "data": {
      "text/plain": [
       "np.float64(1.707825127659933)"
      ]
     },
     "execution_count": 29,
     "metadata": {},
     "output_type": "execute_result"
    }
   ],
   "source": [
    "np.std(d2)"
   ]
  },
  {
   "cell_type": "markdown",
   "id": "5f1da64d-e44e-46f6-bf7b-9b9d042f852c",
   "metadata": {},
   "source": [
    "## Reshaping & Transposing"
   ]
  },
  {
   "cell_type": "code",
   "execution_count": 30,
   "id": "54f7e5a4-db5e-4b3f-8f1a-04c14d7985d3",
   "metadata": {},
   "outputs": [
    {
     "data": {
      "text/plain": [
       "(3, 2)"
      ]
     },
     "execution_count": 30,
     "metadata": {},
     "output_type": "execute_result"
    }
   ],
   "source": [
    "d2.shape"
   ]
  },
  {
   "cell_type": "code",
   "execution_count": 31,
   "id": "c041fe0f-3ed9-4612-9432-b28bff3d8cc3",
   "metadata": {},
   "outputs": [
    {
     "data": {
      "text/plain": [
       "array([[1, 2],\n",
       "       [3, 4],\n",
       "       [5, 6]])"
      ]
     },
     "execution_count": 31,
     "metadata": {},
     "output_type": "execute_result"
    }
   ],
   "source": [
    "d2"
   ]
  },
  {
   "cell_type": "code",
   "execution_count": 32,
   "id": "aa96f252-9885-4735-824f-5fad4fdf6da4",
   "metadata": {},
   "outputs": [],
   "source": [
    "reshaped_d2 = d2.reshape(3, 2, 1)"
   ]
  },
  {
   "cell_type": "code",
   "execution_count": 33,
   "id": "94d3218b-ceb7-46a9-9b8d-696a8caff358",
   "metadata": {},
   "outputs": [
    {
     "data": {
      "text/plain": [
       "array([[[ 1,  2],\n",
       "        [ 6,  8]],\n",
       "\n",
       "       [[15, 18],\n",
       "        [28, 32]],\n",
       "\n",
       "       [[45, 50],\n",
       "        [66, 72]]])"
      ]
     },
     "execution_count": 33,
     "metadata": {},
     "output_type": "execute_result"
    }
   ],
   "source": [
    "reshaped_d2 * d3"
   ]
  },
  {
   "cell_type": "code",
   "execution_count": 34,
   "id": "01c34ab1-6e74-42c8-9d1e-314bc84f943b",
   "metadata": {},
   "outputs": [
    {
     "data": {
      "text/plain": [
       "array([[[ 1,  5,  9],\n",
       "        [ 3,  7, 11]],\n",
       "\n",
       "       [[ 2,  6, 10],\n",
       "        [ 4,  8, 12]]])"
      ]
     },
     "execution_count": 34,
     "metadata": {},
     "output_type": "execute_result"
    }
   ],
   "source": [
    "# Tranpose = flip axis\n",
    "d3.T"
   ]
  },
  {
   "cell_type": "markdown",
   "id": "88e5f4c8-4ee1-49eb-a53d-ed09d9e357f9",
   "metadata": {},
   "source": [
    "## Dot product"
   ]
  },
  {
   "cell_type": "code",
   "execution_count": 35,
   "id": "81d939ea-306f-4f71-bdd4-e6a3af169dfe",
   "metadata": {},
   "outputs": [],
   "source": [
    "matrix1 = np.random.randint(10, size=(3,5))\n",
    "matrix2 = np.random.randint(10, size=(3,5))"
   ]
  },
  {
   "cell_type": "code",
   "execution_count": 36,
   "id": "c7a7da66-bd44-47a5-a5d8-1e89f8262ed7",
   "metadata": {},
   "outputs": [
    {
     "data": {
      "text/plain": [
       "array([[27, 40, 18, 16, 21],\n",
       "       [ 0, 24, 40,  0, 12],\n",
       "       [21, 56,  8,  3, 15]], dtype=int32)"
      ]
     },
     "execution_count": 36,
     "metadata": {},
     "output_type": "execute_result"
    }
   ],
   "source": [
    "# Element-wise multiplication\n",
    "matrix1 * matrix2"
   ]
  },
  {
   "cell_type": "code",
   "execution_count": 37,
   "id": "6547db8a-e066-44a5-b526-1cb5434fbbd5",
   "metadata": {},
   "outputs": [
    {
     "data": {
      "text/plain": [
       "array([[122,  39,  84],\n",
       "       [212,  76, 111],\n",
       "       [210,  71, 103]], dtype=int32)"
      ]
     },
     "execution_count": 37,
     "metadata": {},
     "output_type": "execute_result"
    }
   ],
   "source": [
    "# Dot product\n",
    "# 3x5 . 5x3 = 3x3\n",
    "np.dot(matrix1, matrix2.T)"
   ]
  },
  {
   "cell_type": "markdown",
   "id": "19cd4473-e996-4660-9a3d-0a084fc2e610",
   "metadata": {},
   "source": [
    "## Comparision"
   ]
  },
  {
   "cell_type": "code",
   "execution_count": 38,
   "id": "e6fb5a1d-3533-466a-acd4-0de0935efe74",
   "metadata": {},
   "outputs": [
    {
     "data": {
      "text/plain": [
       "array([[ True,  True],\n",
       "       [False, False],\n",
       "       [False, False]])"
      ]
     },
     "execution_count": 38,
     "metadata": {},
     "output_type": "execute_result"
    }
   ],
   "source": [
    "d1 >= d2"
   ]
  },
  {
   "cell_type": "markdown",
   "id": "0c78f485-8086-418c-9eee-b15e858e7af3",
   "metadata": {},
   "source": [
    "## Sorting"
   ]
  },
  {
   "cell_type": "code",
   "execution_count": 39,
   "id": "74dfac4d-d534-4e8b-91e7-ad85aa671c0f",
   "metadata": {},
   "outputs": [
    {
     "data": {
      "text/plain": [
       "array([[0.08387666, 0.01546309, 0.43136878, 0.58658026, 0.33722445],\n",
       "       [0.67180133, 0.33971941, 0.32275557, 0.36199044, 0.37263062],\n",
       "       [0.12372398, 0.40994379, 0.53997108, 0.94842955, 0.53362991],\n",
       "       [0.99478373, 0.72029301, 0.05134521, 0.9312745 , 0.33174005],\n",
       "       [0.57870113, 0.71879164, 0.96103676, 0.55282709, 0.97466585]])"
      ]
     },
     "execution_count": 39,
     "metadata": {},
     "output_type": "execute_result"
    }
   ],
   "source": [
    "random_array_2"
   ]
  },
  {
   "cell_type": "code",
   "execution_count": 40,
   "id": "cc7620cb-8407-4c8d-9604-e196fdfe5ea0",
   "metadata": {},
   "outputs": [
    {
     "data": {
      "text/plain": [
       "array([[0.01546309, 0.08387666, 0.33722445, 0.43136878, 0.58658026],\n",
       "       [0.32275557, 0.33971941, 0.36199044, 0.37263062, 0.67180133],\n",
       "       [0.12372398, 0.40994379, 0.53362991, 0.53997108, 0.94842955],\n",
       "       [0.05134521, 0.33174005, 0.72029301, 0.9312745 , 0.99478373],\n",
       "       [0.55282709, 0.57870113, 0.71879164, 0.96103676, 0.97466585]])"
      ]
     },
     "execution_count": 40,
     "metadata": {},
     "output_type": "execute_result"
    }
   ],
   "source": [
    "np.sort(random_array_2)"
   ]
  },
  {
   "cell_type": "code",
   "execution_count": 41,
   "id": "8768b43f-6272-4616-a055-4651c3c32bab",
   "metadata": {},
   "outputs": [
    {
     "data": {
      "text/plain": [
       "array([[1, 0, 4, 2, 3],\n",
       "       [2, 1, 3, 4, 0],\n",
       "       [0, 1, 4, 2, 3],\n",
       "       [2, 4, 1, 3, 0],\n",
       "       [3, 0, 1, 2, 4]])"
      ]
     },
     "execution_count": 41,
     "metadata": {},
     "output_type": "execute_result"
    }
   ],
   "source": [
    "# Return arr of indicies sorted by value\n",
    "np.argsort(random_array_2)"
   ]
  },
  {
   "cell_type": "code",
   "execution_count": 42,
   "id": "38b306b5-ebdb-4604-9c6f-c3b579879590",
   "metadata": {},
   "outputs": [
    {
     "data": {
      "text/plain": [
       "array([3, 3, 4, 2, 4])"
      ]
     },
     "execution_count": 42,
     "metadata": {},
     "output_type": "execute_result"
    }
   ],
   "source": [
    "np.argmax(random_array_2, axis=0)"
   ]
  },
  {
   "cell_type": "markdown",
   "id": "2f25c344-8f92-4f33-b92f-e71e29d9c8f3",
   "metadata": {},
   "source": [
    "## Image"
   ]
  },
  {
   "cell_type": "markdown",
   "id": "ed884fa3-889a-4577-9ad7-48b8164a9f06",
   "metadata": {},
   "source": [
    "<img src=\"images/arctic-fox.jpg\">"
   ]
  },
  {
   "cell_type": "code",
   "execution_count": 43,
   "id": "79ac14d4-9c1e-4d85-b9d3-dd01f66ead46",
   "metadata": {},
   "outputs": [
    {
     "data": {
      "text/plain": [
       "array([[[105,  89,  55],\n",
       "        [ 95,  79,  46],\n",
       "        [102,  86,  53],\n",
       "        ...,\n",
       "        [154, 129,  89],\n",
       "        [156, 129,  86],\n",
       "        [159, 132,  89]],\n",
       "\n",
       "       [[105,  89,  53],\n",
       "        [ 98,  82,  48],\n",
       "        [103,  87,  53],\n",
       "        ...,\n",
       "        [161, 138,  96],\n",
       "        [157, 130,  85],\n",
       "        [155, 126,  84]],\n",
       "\n",
       "       [[102,  87,  48],\n",
       "        [ 97,  81,  45],\n",
       "        [101,  85,  49],\n",
       "        ...,\n",
       "        [161, 140,  97],\n",
       "        [153, 129,  83],\n",
       "        [158, 129,  85]],\n",
       "\n",
       "       ...,\n",
       "\n",
       "       [[ 41,  29,  15],\n",
       "        [ 37,  25,   9],\n",
       "        [ 42,  31,  13],\n",
       "        ...,\n",
       "        [153, 153, 155],\n",
       "        [149, 149, 151],\n",
       "        [155, 155, 155]],\n",
       "\n",
       "       [[ 44,  32,  18],\n",
       "        [ 38,  26,  10],\n",
       "        [ 35,  23,   7],\n",
       "        ...,\n",
       "        [150, 149, 154],\n",
       "        [148, 148, 150],\n",
       "        [153, 153, 155]],\n",
       "\n",
       "       [[ 49,  37,  23],\n",
       "        [ 30,  21,   6],\n",
       "        [ 30,  21,   4],\n",
       "        ...,\n",
       "        [137, 138, 143],\n",
       "        [147, 148, 152],\n",
       "        [153, 154, 158]]], shape=(900, 1600, 3), dtype=uint8)"
      ]
     },
     "execution_count": 43,
     "metadata": {},
     "output_type": "execute_result"
    }
   ],
   "source": [
    "from matplotlib.image import imread\n",
    "\n",
    "arctic_fox = imread(\"images/arctic-fox.jpg\")\n",
    "arctic_fox"
   ]
  },
  {
   "cell_type": "code",
   "execution_count": 44,
   "id": "0147dc40-fb7c-409e-8ba5-365634be532c",
   "metadata": {},
   "outputs": [
    {
     "data": {
      "text/plain": [
       "array([[180, 184, 188],\n",
       "       [177, 180, 185],\n",
       "       [178, 181, 186],\n",
       "       ...,\n",
       "       [215, 201, 200],\n",
       "       [216, 209, 200],\n",
       "       [219, 209, 206]], shape=(1600, 3), dtype=uint8)"
      ]
     },
     "execution_count": 44,
     "metadata": {},
     "output_type": "execute_result"
    }
   ],
   "source": [
    "np.max(arctic_fox, axis=0)"
   ]
  },
  {
   "cell_type": "code",
   "execution_count": 45,
   "id": "137e0d6c-c390-494e-ba5d-e4389407b7f9",
   "metadata": {},
   "outputs": [
    {
     "data": {
      "text/plain": [
       "numpy.ndarray"
      ]
     },
     "execution_count": 45,
     "metadata": {},
     "output_type": "execute_result"
    }
   ],
   "source": [
    "type(arctic_fox)"
   ]
  }
 ],
 "metadata": {
  "kernelspec": {
   "display_name": "Python 3 (ipykernel)",
   "language": "python",
   "name": "python3"
  },
  "language_info": {
   "codemirror_mode": {
    "name": "ipython",
    "version": 3
   },
   "file_extension": ".py",
   "mimetype": "text/x-python",
   "name": "python",
   "nbconvert_exporter": "python",
   "pygments_lexer": "ipython3",
   "version": "3.11.11"
  }
 },
 "nbformat": 4,
 "nbformat_minor": 5
}
